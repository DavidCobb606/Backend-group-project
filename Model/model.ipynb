{
 "cells": [
  {
   "cell_type": "code",
   "execution_count": null,
   "metadata": {},
   "outputs": [],
   "source": [
    "#We're basically building a big function that takes a core big data-set and on each time invoked "
   ]
  },
  {
   "cell_type": "code",
   "execution_count": null,
   "metadata": {},
   "outputs": [],
   "source": [
    "from gensim.models import KeyedVectors\n",
    "from gensim.test.utils import datapath\n",
    "\n",
    "import os\n",
    "import sys\n",
    "\n",
    "#import function from Front-end\n",
    "\n",
    "\n",
    "\n",
    "model = KeyedVectors.load_word2vec_format(\n",
    "os.path.abspath(\"../glove.6B.50d.txt\"), binary=False, no_header=True)\n",
    "\n",
    "\n"
   ]
  },
  {
   "cell_type": "code",
   "execution_count": null,
   "metadata": {},
   "outputs": [],
   "source": [
    "\n",
    "\n",
    "#postive.push(Top5ValuesFromimportedarray) negative.push(top5valuesfromarray)\n",
    "\n",
    "#result = model.most_similar(positive=[\"king\", \"woman\"], negative=[], topn=2)\n",
    "\n",
    "#print(\"Hello\", flush=True)\n",
    "\n",
    "def findKeyWords ():\n",
    "    result = model.most_similar(positive=[\"king\", \"woman\"], negative=[\"man\"], topn=2)\n",
    "\n",
    "    return result\n",
    "\n",
    "\n",
    "for line in sys.stdin:\n",
    "    print(line)\n",
    "\n",
    "\n",
    "sys.stdout.write(\"Hello again\")\n",
    "\n",
    "#sys.stdout.flush()\n",
    "\n",
    "#arrayOfNewWord = [result]\n"
   ]
  },
  {
   "cell_type": "code",
   "execution_count": null,
   "metadata": {},
   "outputs": [],
   "source": []
  },
  {
   "cell_type": "code",
   "execution_count": null,
   "metadata": {},
   "outputs": [],
   "source": [
    "#Importing 2 arrays from F-E\n",
    "# exporting an array with just new words/updated values to F-E\n",
    "# \n",
    "print(findKeyWords())"
   ]
  }
 ],
 "metadata": {
  "kernelspec": {
   "display_name": "Python 3.10.6 64-bit",
   "language": "python",
   "name": "python3"
  },
  "language_info": {
   "codemirror_mode": {
    "name": "ipython",
    "version": 3
   },
   "file_extension": ".py",
   "mimetype": "text/x-python",
   "name": "python",
   "nbconvert_exporter": "python",
   "pygments_lexer": "ipython3",
   "version": "3.10.6"
  },
  "orig_nbformat": 4,
  "vscode": {
   "interpreter": {
    "hash": "916dbcbb3f70747c44a77c7bcd40155683ae19c65e1c03b4aa3499c5328201f1"
   }
  }
 },
 "nbformat": 4,
 "nbformat_minor": 2
}
