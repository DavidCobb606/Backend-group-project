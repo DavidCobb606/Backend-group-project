{
 "cells": [
  {
   "cell_type": "code",
   "execution_count": 28,
   "metadata": {},
   "outputs": [],
   "source": [
    "#We're basically building a big function that takes a core big data-set and on each time invoked "
   ]
  },
  {
   "cell_type": "code",
   "execution_count": 1,
   "metadata": {},
   "outputs": [],
   "source": [
    "from gensim.models import KeyedVectors\n",
    "from gensim.test.utils import datapath\n",
    "from gensim.models import Word2Vec\n",
    "\n",
    "import os\n",
    "import sys\n",
    "\n",
    "#import function from Front-end\n",
    "\n",
    "\n",
    "\n",
    "model = KeyedVectors.load_word2vec_format(\n",
    "os.path.abspath(\"../modelTest.txt\"), binary=False)\n",
    "\n",
    "# model = Word2Vec.load('../modelTest.txt')"
   ]
  },
  {
   "cell_type": "code",
   "execution_count": 4,
   "metadata": {},
   "outputs": [
    {
     "name": "stdout",
     "output_type": "stream",
     "text": [
      "404 error\n"
     ]
    }
   ],
   "source": [
    "\n",
    "\n",
    "#postive.push(Top5ValuesFromimportedarray) negative.push(top5valuesfromarray)\n",
    "\n",
    "#result = model.most_similar(positive=[\"king\", \"woman\"], negative=[], topn=2)\n",
    "\n",
    "#print(\"Hello\", flush=True)\n",
    "\n",
    "def findKeyWords ():\n",
    "    try:\n",
    "        result = model.most_similar(positive=[\"kjhfvb\"], negative=[\"hgjkvk\"], topn=2)\n",
    "        return result\n",
    "    \n",
    "    except: \n",
    "        return \"404 error\"\n",
    "\n",
    "    \n",
    "\n",
    "\n",
    "print(findKeyWords())\n",
    "\n",
    "\n",
    "\n"
   ]
  },
  {
   "cell_type": "code",
   "execution_count": null,
   "metadata": {},
   "outputs": [],
   "source": []
  },
  {
   "cell_type": "code",
   "execution_count": 31,
   "metadata": {},
   "outputs": [
    {
     "name": "stdout",
     "output_type": "stream",
     "text": [
      "[('queen', 0.8523604273796082), ('throne', 0.7664334177970886)]\n"
     ]
    }
   ],
   "source": [
    "#Importing 2 arrays from F-E\n",
    "# exporting an array with just new words/updated values to F-E\n",
    "# \n",
    "print(findKeyWords())"
   ]
  }
 ],
 "metadata": {
  "kernelspec": {
   "display_name": "Python 3.10.6 64-bit",
   "language": "python",
   "name": "python3"
  },
  "language_info": {
   "codemirror_mode": {
    "name": "ipython",
    "version": 3
   },
   "file_extension": ".py",
   "mimetype": "text/x-python",
   "name": "python",
   "nbconvert_exporter": "python",
   "pygments_lexer": "ipython3",
   "version": "3.10.6"
  },
  "orig_nbformat": 4,
  "vscode": {
   "interpreter": {
    "hash": "916dbcbb3f70747c44a77c7bcd40155683ae19c65e1c03b4aa3499c5328201f1"
   }
  }
 },
 "nbformat": 4,
 "nbformat_minor": 2
}
